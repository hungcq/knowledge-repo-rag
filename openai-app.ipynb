{
 "cells": [
  {
   "cell_type": "code",
   "id": "e4b515b9-be2c-4793-9588-ae5e52f20e0b",
   "metadata": {
    "ExecuteTime": {
     "end_time": "2025-01-12T10:16:22.050489Z",
     "start_time": "2025-01-12T10:16:22.032385Z"
    }
   },
   "source": [
    "from sentence_transformers import SentenceTransformer\n",
    "from qdrant_client import QdrantClient\n",
    "from dotenv import load_dotenv\n",
    "\n",
    "load_dotenv()"
   ],
   "outputs": [
    {
     "data": {
      "text/plain": [
       "True"
      ]
     },
     "execution_count": 11,
     "metadata": {},
     "output_type": "execute_result"
    }
   ],
   "execution_count": 11
  },
  {
   "cell_type": "code",
   "id": "5e369e7b771ee862",
   "metadata": {
    "ExecuteTime": {
     "end_time": "2025-01-12T10:09:23.815198Z",
     "start_time": "2025-01-12T10:06:50.731206Z"
    }
   },
   "source": [
    "# Initialize the SentenceTransformer model\n",
    "model = SentenceTransformer(\"nomic-ai/nomic-embed-text-v1.5\", trust_remote_code=True)"
   ],
   "outputs": [
    {
     "name": "stderr",
     "output_type": "stream",
     "text": [
      "<All keys matched successfully>\n"
     ]
    }
   ],
   "execution_count": 4
  },
  {
   "metadata": {
    "ExecuteTime": {
     "end_time": "2025-01-12T10:09:27.712474Z",
     "start_time": "2025-01-12T10:09:27.658196Z"
    }
   },
   "cell_type": "code",
   "source": [
    "# Initialize the Qdrant client\n",
    "client = QdrantClient(url=\"http://localhost:6333\")\n",
    "collection = \"knowledge_repo_768\""
   ],
   "id": "60ec443b-9d94-4ec2-8f2a-27496716c719",
   "outputs": [],
   "execution_count": 5
  },
  {
   "cell_type": "code",
   "id": "71608b78-59a8-407e-8c13-6512a62e3e5d",
   "metadata": {
    "ExecuteTime": {
     "end_time": "2025-01-12T10:11:38.483509Z",
     "start_time": "2025-01-12T10:11:38.404829Z"
    }
   },
   "source": [
    "query = 'search_query: how can I deprecate probably?'\n",
    "query_embeddings = model.encode([query])\n",
    "search_result = client.query_points(\n",
    "    collection_name=collection,\n",
    "    query=query_embeddings[0],\n",
    "    with_payload=True,\n",
    "    limit=10\n",
    ").points\n",
    "\n",
    "contexts = [point.payload[\"doc\"].removeprefix(\"search_document: \") for point in search_result]\n",
    "context_string = \" \".join([doc for doc in contexts])\n",
    "\n",
    "prompt = f\"\"\"Use the following pieces of context to answer the question at the end.\n",
    "    {context_string}\n",
    "    Question: {query}\n",
    "\"\"\"\n"
   ],
   "outputs": [
    {
     "name": "stdout",
     "output_type": "stream",
     "text": [
      "Use the following pieces of context to answer the question at the end.\n",
      "    - Deprecation tools can be used to prevent back-sliding to old usage - Def:\n",
      "    - Don't have a deadline\n",
      "    - Aren't high priority for the org\n",
      "  - Goal: advertising the existence of a new system\n",
      "  - When: new system offers compelling benefits\n",
      "- Compulsory deprecation:\n",
      "  - Def: usually comes with a deadline for the removal of obsolete system\n",
      "  - How to scale: done by 1 team of expert. Advs:\n",
      "    - Reuse expertise\n",
      "    - Reduce burden to users - Why: summary of what you expect someone to take away from the doc\n",
      "- Structure: should have beginning, middle & end:\n",
      "  - Beginning: problem\n",
      "  - Middle: recommended solution\n",
      "  - End: takeaways\n",
      "- Deprecation:\n",
      "  - Should avoid abandoned docs as much as possible\n",
      "  - Deprecation steps:\n",
      "    - Remove or mark it as obsolete\n",
      "    - Indicate where to go for new info (if possible) - Static analysis\n",
      "    - Alerting/deprecation warnings: should be:\n",
      "      - Actionable: specify how to migrate\n",
      "      - Relevant: show at the right time\n",
      "      - -> Avoid creating alert fatigue & being ignored\n",
      "    - -> Can help to prevent new users but rarely lead to migration of existing systems\n",
      "### Process\n",
      "- Similar to other SE projects\n",
      "- Need explicit project owners - Visible deprecation cost & unclear benefit\n",
      "- -> Need to research & measure\n",
      "- -> Focus on incremental, small changes that deliver benefit\n",
      "### Deprecation during design\n",
      "- Affect design decisions. Considerations:\n",
      "  - Users' migration effort\n",
      "  - Incremental replacement plan\n",
      "- -> Many are related to how a system provides & consumes dependencies\n",
      "### Types of deprecation\n",
      "- Advisory deprecation: ##### Two ways of deducing the number of dimensions of a set of curves\n",
      "- 2 methods of reducing d:\n",
      "  - Material: not change the shape of curve\n",
      "  - Formal: change the shape of curve\n",
      "  - -> Not diminish the generality of the definition\n",
      "\n",
      "#### 7. Simplicity ## 15. Deprecation\n",
      "### Overview\n",
      "- Goal: remove redundancy & complexity that builds up in a system over time\n",
      "- -> Reduce resource costs & improve velocity\n",
      "- Deprecation scope: range from individual function calls to entire software stacks\n",
      "- Scope of chap:\n",
      "  - Code-level deprecation\n",
      "  - Technical systems, not end-user products\n",
      "  - System owner has visibility into its use\n",
      "### When to deprecate - Adv: generalization reduce the amount of arithmetic performed\n",
      "#### Additional info\n",
      "- Deliberate vs automatic thinking:\n",
      "civilization advances by extending the number of imp operations which we can perform without thinking about them\n",
      "- -> Operations of thought are limited, must only be made at decisive moment ## 3. Adjustment & anchoring: when predict a numerical value & has an available number\n",
      "- Insufficient adjustment. Anchor on:\n",
      "  - Random number given\n",
      "  - Partial computation\n",
      "- Overestimate prob of conjunctive event, underestimate prob of disjunctive event. E.g: 90% red, 10% white, conjunctive: chance draw 7 reds in a row, disjunctive: chance get at least 1 white in 7 draws - Stubbing\n",
      "    - Interaction testing (mocking)\n",
      "- Larger testing: chars, adv over unit tests\n",
      "- Deprecation:\n",
      "  - Goal\n",
      "  - When to deprecate\n",
      "  - Process, how to scale\n",
      "    Question: search_query: how can I deprecate probably?\n",
      "\n"
     ]
    }
   ],
   "execution_count": 10
  },
  {
   "metadata": {
    "ExecuteTime": {
     "end_time": "2025-01-12T10:16:34.393847Z",
     "start_time": "2025-01-12T10:16:26.952941Z"
    }
   },
   "cell_type": "code",
   "source": [
    "from openai import OpenAI\n",
    "client = OpenAI()\n",
    "\n",
    "completion = client.chat.completions.create(\n",
    "    model=\"gpt-4o-mini\",\n",
    "    messages=[\n",
    "        {\"role\": \"developer\", \"content\": \"You are a helpful assistant.\"},\n",
    "        {\"role\": \"user\", \"content\": prompt}\n",
    "    ]\n",
    ")\n",
    "\n",
    "print(completion.choices[0].message)"
   ],
   "id": "a79704a0d9b66787",
   "outputs": [
    {
     "name": "stdout",
     "output_type": "stream",
     "text": [
      "ChatCompletionMessage(content=\"To deprecate effectively, you should follow a structured approach based on the context provided. Here’s how to do it:\\n\\n### Beginning: Identify the Problem\\nFirst, understand the necessity of deprecation. This could be due to redundancy, complexity, deprecated functionality, or the introduction of a new system that offers compelling benefits. You want to ensure that users are migrating away from obsolete systems in a way that doesn't negatively impact operations. \\n\\n### Middle: Recommended Solutions\\n1. **Determine the Type of Deprecation**: Identify whether you're opting for advisory deprecation (no immediate removal) or compulsory deprecation (with a deadline for removal).\\n\\n2. **Establish Clear Communication**:\\n   - Remove or mark obsolete functionality to avoid confusion.\\n   - Provide clear, actionable migration paths, explaining to users how they can transition to the new system or functionality.\\n   - Ensure alerts and deprecation warnings are relevant and timely to avoid alert fatigue.\\n\\n3. **Scale Deprecation Efforts**:\\n   - Assign explicit project owners to oversee the deprecation process. This ensures visibility into the costs and benefits.\\n   - Focus on small, incremental changes rather than sweeping updates that are harder for users to adapt to.\\n\\n4. **Design Considerations**:\\n   - During the design of new features or systems, incorporate considerations for users' migration efforts from old systems.\\n   - Develop a replacement plan that addresses how dependencies will change over time.\\n  \\n5. **Gather Data**: Research and measure usage patterns of outdated systems. This can help understand the urgency and streamline the deprecation process. \\n\\n### End: Takeaways\\n1. **Avoid Abandonment**: Make sure there are no gaps in documentation and that users know where to find current information about new systems. \\n2. **Incremental Changes Yield Benefits**: Smaller changes help users adapt without overwhelming them.\\n3. **Objective-Oriented**: The goal of deprecation is to simplify the codebase or system, reduce resource costs, and improve overall velocity.\\n4. **Provide Support**: Offer adequate alerts, documentation, and assistance to facilitate the migration for existing users, as they are less likely to transition just because systems are marked deprecated.\\n\\nBy following these steps, you will create a clear and effective deprecation strategy that minimizes disruption and encourages users to adopt newer systems.\", refusal=None, role='assistant', audio=None, function_call=None, tool_calls=None)\n"
     ]
    }
   ],
   "execution_count": 12
  }
 ],
 "metadata": {
  "kernelspec": {
   "display_name": "Python 3 (ipykernel)",
   "language": "python",
   "name": "python3"
  },
  "language_info": {
   "codemirror_mode": {
    "name": "ipython",
    "version": 3
   },
   "file_extension": ".py",
   "mimetype": "text/x-python",
   "name": "python",
   "nbconvert_exporter": "python",
   "pygments_lexer": "ipython3",
   "version": "3.9.6"
  }
 },
 "nbformat": 4,
 "nbformat_minor": 5
}
