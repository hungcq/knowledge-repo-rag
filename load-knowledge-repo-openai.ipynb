{
 "cells": [
  {
   "cell_type": "code",
   "id": "initial_id",
   "metadata": {
    "collapsed": true,
    "ExecuteTime": {
     "end_time": "2025-06-03T16:58:03.367011Z",
     "start_time": "2025-06-03T16:58:02.668909Z"
    }
   },
   "source": [
    "from openai import OpenAI\n",
    "from dotenv import load_dotenv\n",
    "import os\n",
    "\n",
    "load_dotenv()\n",
    "client = OpenAI()"
   ],
   "outputs": [],
   "execution_count": 1
  },
  {
   "metadata": {
    "ExecuteTime": {
     "end_time": "2025-06-03T17:20:36.735255Z",
     "start_time": "2025-06-03T17:20:35.858320Z"
    }
   },
   "cell_type": "code",
   "source": [
    "# create if not exist\n",
    "# vector_store = client.beta.vector_stores.create(\n",
    "#     name=\"knowledge-repo\"\n",
    "# )\n",
    "stores = client.beta.vector_stores.list()\n",
    "vector_store = None\n",
    "for store in stores.data:\n",
    "    vector_store_id = store.id\n",
    "    print(f\"vector store {store.name}: {store.id}\")\n",
    "    if store.name == \"knowledge-repo\":\n",
    "        vector_store = store\n",
    "    # clean up if necessary\n",
    "    #     client.beta.vector_stores.delete(store.id)"
   ],
   "id": "a3ed8b6e4ef7b60a",
   "outputs": [
    {
     "name": "stdout",
     "output_type": "stream",
     "text": [
      "vector store knowledge-repo: vs_683f2a04c0748191a65d91c2f414c755\n",
      "vector store Temporal: vs_ewunN7laFAOw6m8mEOF5jixY\n"
     ]
    }
   ],
   "execution_count": 8
  },
  {
   "metadata": {
    "ExecuteTime": {
     "end_time": "2025-06-03T17:09:03.165825Z",
     "start_time": "2025-06-03T17:07:43.298279Z"
    }
   },
   "cell_type": "code",
   "source": [
    "def get_filtered_file_paths(directory, extensions):\n",
    "    filtered_files = []\n",
    "    for root, _, files in os.walk(directory):\n",
    "        for file in files:\n",
    "            if file.split('.')[-1].lower() in extensions:\n",
    "                file_path = os.path.join(root, file)\n",
    "                if os.path.getsize(file_path) == 0:\n",
    "                    print('file is empty', file_path)\n",
    "                else:\n",
    "                    filtered_files.append(file_path)\n",
    "    return filtered_files\n",
    "\n",
    "def process_directory(subdir_path, vector_store):\n",
    "    file_paths = get_filtered_file_paths(subdir_path, supported_extensions)\n",
    "    if not file_paths:\n",
    "        print(f\"Skipping {subdir_path}: no valid files.\")\n",
    "        return\n",
    "\n",
    "    print(f\"Processing {subdir_path} with {len(file_paths)} files...\")\n",
    "\n",
    "    file_streams = [open(path, \"rb\") for path in file_paths]\n",
    "    try:\n",
    "        file_batch = client.beta.vector_stores.file_batches.upload_and_poll(\n",
    "            vector_store_id=vector_store.id, files=file_streams\n",
    "        )\n",
    "        print(f\"{subdir_path} → {file_batch.status} | files: {file_batch.file_counts}\")\n",
    "        print(f\"Vector Store ID: {vector_store.id}\")\n",
    "    finally:\n",
    "        for f in file_streams:\n",
    "            f.close()\n",
    "\n",
    "\n",
    "# Define supported extensions\n",
    "supported_extensions = {\"md\"}\n",
    "\n",
    "# Top-level directory to search\n",
    "root_dir = \"/Users/hungcq/projects/knowledge-repo\"\n",
    "\n",
    "# Process each top-level subdirectory\n",
    "for item in os.listdir(root_dir):\n",
    "    subdir_path = os.path.join(root_dir, item)\n",
    "    if os.path.isdir(subdir_path):\n",
    "        process_directory(subdir_path, vector_store)"
   ],
   "id": "6b86579de06ea18e",
   "outputs": [
    {
     "name": "stdout",
     "output_type": "stream",
     "text": [
      "Processing /Users/hungcq/projects/knowledge-repo/practical with 13 files...\n",
      "/Users/hungcq/projects/knowledge-repo/practical → completed | files: FileCounts(cancelled=0, completed=13, failed=0, in_progress=0, total=13)\n",
      "Vector Store ID: vs_683f2a04c0748191a65d91c2f414c755\n",
      "Processing /Users/hungcq/projects/knowledge-repo/biography with 4 files...\n",
      "/Users/hungcq/projects/knowledge-repo/biography → completed | files: FileCounts(cancelled=0, completed=4, failed=0, in_progress=0, total=4)\n",
      "Vector Store ID: vs_683f2a04c0748191a65d91c2f414c755\n",
      "Processing /Users/hungcq/projects/knowledge-repo/art with 4 files...\n",
      "/Users/hungcq/projects/knowledge-repo/art → completed | files: FileCounts(cancelled=0, completed=4, failed=0, in_progress=0, total=4)\n",
      "Vector Store ID: vs_683f2a04c0748191a65d91c2f414c755\n",
      "Processing /Users/hungcq/projects/knowledge-repo/psychology with 10 files...\n",
      "/Users/hungcq/projects/knowledge-repo/psychology → completed | files: FileCounts(cancelled=0, completed=10, failed=0, in_progress=0, total=10)\n",
      "Vector Store ID: vs_683f2a04c0748191a65d91c2f414c755\n",
      "Processing /Users/hungcq/projects/knowledge-repo/business with 1 files...\n",
      "/Users/hungcq/projects/knowledge-repo/business → completed | files: FileCounts(cancelled=0, completed=1, failed=0, in_progress=0, total=1)\n",
      "Vector Store ID: vs_683f2a04c0748191a65d91c2f414c755\n",
      "Processing /Users/hungcq/projects/knowledge-repo/sport with 1 files...\n",
      "/Users/hungcq/projects/knowledge-repo/sport → completed | files: FileCounts(cancelled=0, completed=1, failed=0, in_progress=0, total=1)\n",
      "Vector Store ID: vs_683f2a04c0748191a65d91c2f414c755\n",
      "Processing /Users/hungcq/projects/knowledge-repo/language with 1 files...\n",
      "/Users/hungcq/projects/knowledge-repo/language → completed | files: FileCounts(cancelled=0, completed=1, failed=0, in_progress=0, total=1)\n",
      "Vector Store ID: vs_683f2a04c0748191a65d91c2f414c755\n",
      "Processing /Users/hungcq/projects/knowledge-repo/math with 4 files...\n",
      "/Users/hungcq/projects/knowledge-repo/math → completed | files: FileCounts(cancelled=0, completed=4, failed=0, in_progress=0, total=4)\n",
      "Vector Store ID: vs_683f2a04c0748191a65d91c2f414c755\n",
      "Processing /Users/hungcq/projects/knowledge-repo/politics with 1 files...\n",
      "/Users/hungcq/projects/knowledge-repo/politics → completed | files: FileCounts(cancelled=0, completed=1, failed=0, in_progress=0, total=1)\n",
      "Vector Store ID: vs_683f2a04c0748191a65d91c2f414c755\n",
      "Processing /Users/hungcq/projects/knowledge-repo/philosophy with 10 files...\n",
      "/Users/hungcq/projects/knowledge-repo/philosophy → completed | files: FileCounts(cancelled=0, completed=10, failed=0, in_progress=0, total=10)\n",
      "Vector Store ID: vs_683f2a04c0748191a65d91c2f414c755\n",
      "Processing /Users/hungcq/projects/knowledge-repo/history with 1 files...\n",
      "/Users/hungcq/projects/knowledge-repo/history → completed | files: FileCounts(cancelled=0, completed=1, failed=0, in_progress=0, total=1)\n",
      "Vector Store ID: vs_683f2a04c0748191a65d91c2f414c755\n",
      "Processing /Users/hungcq/projects/knowledge-repo/economics with 4 files...\n",
      "/Users/hungcq/projects/knowledge-repo/economics → completed | files: FileCounts(cancelled=0, completed=4, failed=0, in_progress=0, total=4)\n",
      "Vector Store ID: vs_683f2a04c0748191a65d91c2f414c755\n",
      "Processing /Users/hungcq/projects/knowledge-repo/finance with 13 files...\n",
      "/Users/hungcq/projects/knowledge-repo/finance → completed | files: FileCounts(cancelled=0, completed=13, failed=0, in_progress=0, total=13)\n",
      "Vector Store ID: vs_683f2a04c0748191a65d91c2f414c755\n",
      "Processing /Users/hungcq/projects/knowledge-repo/fiction with 12 files...\n",
      "/Users/hungcq/projects/knowledge-repo/fiction → completed | files: FileCounts(cancelled=0, completed=12, failed=0, in_progress=0, total=12)\n",
      "Vector Store ID: vs_683f2a04c0748191a65d91c2f414c755\n",
      "Skipping /Users/hungcq/projects/knowledge-repo/.git: no valid files.\n",
      "Processing /Users/hungcq/projects/knowledge-repo/self-help with 1 files...\n",
      "/Users/hungcq/projects/knowledge-repo/self-help → completed | files: FileCounts(cancelled=0, completed=1, failed=0, in_progress=0, total=1)\n",
      "Vector Store ID: vs_683f2a04c0748191a65d91c2f414c755\n",
      "Processing /Users/hungcq/projects/knowledge-repo/biology with 8 files...\n",
      "/Users/hungcq/projects/knowledge-repo/biology → completed | files: FileCounts(cancelled=0, completed=8, failed=0, in_progress=0, total=8)\n",
      "Vector Store ID: vs_683f2a04c0748191a65d91c2f414c755\n",
      "Skipping /Users/hungcq/projects/knowledge-repo/.idea: no valid files.\n"
     ]
    }
   ],
   "execution_count": 7
  },
  {
   "metadata": {
    "ExecuteTime": {
     "end_time": "2025-05-25T13:35:09.327561Z",
     "start_time": "2025-05-25T13:35:05.302529Z"
    }
   },
   "cell_type": "code",
   "source": [
    "all_files = client.beta.vector_stores.files.list(vector_store_id=vector_store.id)\n",
    "\n",
    "failed = [f for f in all_files if f.status != \"completed\"]\n",
    "print(len(failed))"
   ],
   "id": "cccd4beb2ef895e3",
   "outputs": [],
   "execution_count": 29
  }
 ],
 "metadata": {
  "kernelspec": {
   "display_name": "Python 3",
   "language": "python",
   "name": "python3"
  },
  "language_info": {
   "codemirror_mode": {
    "name": "ipython",
    "version": 2
   },
   "file_extension": ".py",
   "mimetype": "text/x-python",
   "name": "python",
   "nbconvert_exporter": "python",
   "pygments_lexer": "ipython2",
   "version": "2.7.6"
  }
 },
 "nbformat": 4,
 "nbformat_minor": 5
}
