{
 "cells": [
  {
   "cell_type": "code",
   "id": "e4b515b9-be2c-4793-9588-ae5e52f20e0b",
   "metadata": {
    "ExecuteTime": {
     "end_time": "2025-01-12T08:11:23.124233Z",
     "start_time": "2025-01-12T08:11:23.024505Z"
    }
   },
   "source": [
    "import os\n",
    "import uuid\n",
    "from sentence_transformers import SentenceTransformer\n",
    "from qdrant_client.models import PointStruct\n",
    "from qdrant_client import QdrantClient\n",
    "from langchain_community.document_loaders import TextLoader\n",
    "from langchain_text_splitters import RecursiveCharacterTextSplitter\n",
    "\n",
    "# Define the root directory for reading files\n",
    "root_directory = \"/Users/hungcq/projects/knowledge-repo\"\n",
    "\n",
    "# Initialize Langchain components\n",
    "splitter = RecursiveCharacterTextSplitter(chunk_size=400, chunk_overlap=20)\n",
    "\n",
    "# Function to recursively load all text files from a directory\n",
    "def load_docs_from_directory(directory):\n",
    "    docs = []\n",
    "    paths = []\n",
    "\n",
    "    for subdir, _, files in os.walk(directory):\n",
    "        for file in files:\n",
    "            if file.endswith(\".md\"):  # You can change this to the file types you need\n",
    "                file_path = os.path.join(subdir, file)\n",
    "                # Use Langchain TextLoader to load the file\n",
    "                loader = TextLoader(file_path)\n",
    "                text_split = splitter.split_documents(loader.load())\n",
    "\n",
    "                # Add documents to list along with relative paths\n",
    "                for doc in text_split:\n",
    "                    docs.append(\"search_document: \" + doc.page_content)\n",
    "                    # Store the relative path of the file\n",
    "                    paths.append(os.path.relpath(file_path, root_directory))\n",
    "\n",
    "    return docs, paths\n",
    "\n",
    "# Load documents from directory\n",
    "docs, paths = load_docs_from_directory(root_directory)"
   ],
   "outputs": [],
   "execution_count": 23
  },
  {
   "cell_type": "code",
   "id": "5e369e7b771ee862",
   "metadata": {
    "ExecuteTime": {
     "end_time": "2025-01-12T08:03:09.833686Z",
     "start_time": "2025-01-12T08:03:02.180402Z"
    }
   },
   "source": [
    "# Initialize the SentenceTransformer model\n",
    "model = SentenceTransformer(\"nomic-ai/nomic-embed-text-v1.5\", trust_remote_code=True)"
   ],
   "outputs": [
    {
     "name": "stderr",
     "output_type": "stream",
     "text": [
      "<All keys matched successfully>\n"
     ]
    }
   ],
   "execution_count": 14
  },
  {
   "metadata": {
    "ExecuteTime": {
     "end_time": "2025-01-12T08:12:29.121935Z",
     "start_time": "2025-01-12T08:11:32.863976Z"
    }
   },
   "cell_type": "code",
   "source": [
    "# Encode documents into embeddings using the SentenceTransformer model\n",
    "doc_embeddings = model.encode(docs)\n",
    "\n",
    "# Prepare data for upsert into Qdrant\n",
    "points = []\n",
    "for i, (embedding, path, doc) in enumerate(zip(doc_embeddings, paths, docs)):\n",
    "    points.append(\n",
    "        PointStruct(\n",
    "            id=str(uuid.uuid4()),  # Qdrant requires unique IDs\n",
    "            vector=embedding.tolist(),  # Convert numpy array to list if necessary\n",
    "            payload={\"file_path\": path, \"doc\": doc},\n",
    "        )\n",
    "    )\n",
    "\n",
    "print(len(doc_embeddings[0]))"
   ],
   "id": "60ec443b-9d94-4ec2-8f2a-27496716c719",
   "outputs": [
    {
     "name": "stdout",
     "output_type": "stream",
     "text": [
      "768\n"
     ]
    }
   ],
   "execution_count": 24
  },
  {
   "cell_type": "code",
   "id": "71608b78-59a8-407e-8c13-6512a62e3e5d",
   "metadata": {
    "ExecuteTime": {
     "end_time": "2025-01-12T08:16:32.207131Z",
     "start_time": "2025-01-12T08:16:30.745048Z"
    }
   },
   "source": [
    "# Initialize the Qdrant client\n",
    "client = QdrantClient(url=\"http://localhost:6333\")\n",
    "collection = \"knowledge_repo_768\"\n",
    "# Upsert documents into Qdrant\n",
    "batch_size = 500\n",
    "# Function to split points into batches\n",
    "def batch_points(points, batch_size):\n",
    "    for i in range(0, len(points), batch_size):\n",
    "        yield points[i:i + batch_size]\n",
    "\n",
    "# Upsert points in batches\n",
    "for batch in batch_points(points, batch_size):\n",
    "    operation_info = client.upsert(\n",
    "        collection_name=collection,\n",
    "        wait=True,\n",
    "        points=batch,  # Upserting a batch of points\n",
    "    )\n",
    "    print(f\"Batch of {len(batch)} points upserted successfully.\")\n",
    "\n",
    "# Print the operation result\n",
    "print(operation_info)\n"
   ],
   "outputs": [
    {
     "name": "stdout",
     "output_type": "stream",
     "text": [
      "Batch of 500 points upserted successfully.\n",
      "Batch of 500 points upserted successfully.\n",
      "Batch of 500 points upserted successfully.\n",
      "Batch of 500 points upserted successfully.\n",
      "Batch of 500 points upserted successfully.\n",
      "Batch of 500 points upserted successfully.\n",
      "Batch of 500 points upserted successfully.\n",
      "Batch of 481 points upserted successfully.\n",
      "operation_id=9 status=<UpdateStatus.COMPLETED: 'completed'>\n"
     ]
    }
   ],
   "execution_count": 28
  },
  {
   "metadata": {
    "ExecuteTime": {
     "end_time": "2025-01-12T08:16:50.240041Z",
     "start_time": "2025-01-12T08:16:49.818195Z"
    }
   },
   "cell_type": "code",
   "source": [
    "query = 'search_query: how can I deprecate probably?'\n",
    "query_embeddings = model.encode([query])"
   ],
   "id": "7ac1e206f7d0fb72",
   "outputs": [],
   "execution_count": 29
  },
  {
   "metadata": {
    "ExecuteTime": {
     "end_time": "2025-01-12T08:16:51.853175Z",
     "start_time": "2025-01-12T08:16:51.825717Z"
    }
   },
   "cell_type": "code",
   "source": [
    "search_result = client.query_points(\n",
    "    collection_name=collection,\n",
    "    query=query_embeddings[0],\n",
    "    with_payload=True,\n",
    "    limit=10\n",
    ").points\n",
    "\n",
    "print(search_result)"
   ],
   "id": "3cd45c3ae74f7c94",
   "outputs": [
    {
     "name": "stdout",
     "output_type": "stream",
     "text": [
      "[ScoredPoint(id='b022018a-b65b-4ffd-9b3b-7461457e027e', version=5, score=312.18634, payload={'file_path': 'information-technology/software-engineering-at-google/22-large-scale-change.md', 'doc': 'search_document: - Deprecation tools can be used to prevent back-sliding to old usage'}, vector=None, shard_key=None, order_value=None), ScoredPoint(id='000a57e4-c348-4a27-91ad-a87e7c8dd4e1', version=5, score=289.07343, payload={'file_path': 'information-technology/software-engineering-at-google/15-deprecation.md', 'doc': \"search_document: - Def:\\n    - Don't have a deadline\\n    - Aren't high priority for the org\\n  - Goal: advertising the existence of a new system\\n  - When: new system offers compelling benefits\\n- Compulsory deprecation:\\n  - Def: usually comes with a deadline for the removal of obsolete system\\n  - How to scale: done by 1 team of expert. Advs:\\n    - Reuse expertise\\n    - Reduce burden to users\"}, vector=None, shard_key=None, order_value=None), ScoredPoint(id='04cce7cc-f9b5-4515-8aef-d92975242f1a', version=5, score=286.69537, payload={'file_path': 'information-technology/software-engineering-at-google/10-documentation.md', 'doc': 'search_document: - Why: summary of what you expect someone to take away from the doc\\n- Structure: should have beginning, middle & end:\\n  - Beginning: problem\\n  - Middle: recommended solution\\n  - End: takeaways\\n- Deprecation:\\n  - Should avoid abandoned docs as much as possible\\n  - Deprecation steps:\\n    - Remove or mark it as obsolete\\n    - Indicate where to go for new info (if possible)'}, vector=None, shard_key=None, order_value=None), ScoredPoint(id='41e61998-6278-4257-9cf3-052346144df8', version=5, score=283.84644, payload={'file_path': 'information-technology/software-engineering-at-google/15-deprecation.md', 'doc': 'search_document: - Static analysis\\n    - Alerting/deprecation warnings: should be:\\n      - Actionable: specify how to migrate\\n      - Relevant: show at the right time\\n      - -> Avoid creating alert fatigue & being ignored\\n    - -> Can help to prevent new users but rarely lead to migration of existing systems\\n### Process\\n- Similar to other SE projects\\n- Need explicit project owners'}, vector=None, shard_key=None, order_value=None), ScoredPoint(id='9a519a1a-8647-4582-a831-415e0dd4cc8e', version=5, score=283.8379, payload={'file_path': 'information-technology/software-engineering-at-google/15-deprecation.md', 'doc': \"search_document: - Visible deprecation cost & unclear benefit\\n- -> Need to research & measure\\n- -> Focus on incremental, small changes that deliver benefit\\n### Deprecation during design\\n- Affect design decisions. Considerations:\\n  - Users' migration effort\\n  - Incremental replacement plan\\n- -> Many are related to how a system provides & consumes dependencies\\n### Types of deprecation\\n- Advisory deprecation:\"}, vector=None, shard_key=None, order_value=None), ScoredPoint(id='093acd4e-e5a1-41a6-8b74-053b4f22dd96', version=8, score=279.7146, payload={'file_path': 'philosophy/the-logic-of-scientific-discovery.md', 'doc': 'search_document: ##### Two ways of deducing the number of dimensions of a set of curves\\n- 2 methods of reducing d:\\n  - Material: not change the shape of curve\\n  - Formal: change the shape of curve\\n  - -> Not diminish the generality of the definition\\n\\n#### 7. Simplicity'}, vector=None, shard_key=None, order_value=None), ScoredPoint(id='a6ac8ad8-9fbf-4108-abea-32710befa313', version=5, score=278.53256, payload={'file_path': 'information-technology/software-engineering-at-google/15-deprecation.md', 'doc': 'search_document: ## 15. Deprecation\\n### Overview\\n- Goal: remove redundancy & complexity that builds up in a system over time\\n- -> Reduce resource costs & improve velocity\\n- Deprecation scope: range from individual function calls to entire software stacks\\n- Scope of chap:\\n  - Code-level deprecation\\n  - Technical systems, not end-user products\\n  - System owner has visibility into its use\\n### When to deprecate'}, vector=None, shard_key=None, order_value=None), ScoredPoint(id='0b3ebcb7-a315-4865-b656-74b12e53e5b2', version=3, score=278.32373, payload={'file_path': 'math/an-introduction-to-mathematics.md', 'doc': 'search_document: - Adv: generalization reduce the amount of arithmetic performed\\n#### Additional info\\n- Deliberate vs automatic thinking:\\ncivilization advances by extending the number of imp operations which we can perform without thinking about them\\n- -> Operations of thought are limited, must only be made at decisive moment'}, vector=None, shard_key=None, order_value=None), ScoredPoint(id='54c8e0e5-2d2b-4312-b549-3343e59c0dfc', version=3, score=277.7896, payload={'file_path': 'psychology/thinking-fast-and-slow/thinking-fast-and-slow.md', 'doc': 'search_document: ## 3. Adjustment & anchoring: when predict a numerical value & has an available number\\n- Insufficient adjustment. Anchor on:\\n  - Random number given\\n  - Partial computation\\n- Overestimate prob of conjunctive event, underestimate prob of disjunctive event. E.g: 90% red, 10% white, conjunctive: chance draw 7 reds in a row, disjunctive: chance get at least 1 white in 7 draws'}, vector=None, shard_key=None, order_value=None), ScoredPoint(id='226eb145-515a-403c-9a01-d3747cb72f92', version=5, score=277.01093, payload={'file_path': 'information-technology/software-engineering-at-google/review-questions.md', 'doc': 'search_document: - Stubbing\\n    - Interaction testing (mocking)\\n- Larger testing: chars, adv over unit tests\\n- Deprecation:\\n  - Goal\\n  - When to deprecate\\n  - Process, how to scale'}, vector=None, shard_key=None, order_value=None)]\n"
     ]
    }
   ],
   "execution_count": 30
  },
  {
   "metadata": {},
   "cell_type": "code",
   "outputs": [],
   "execution_count": null,
   "source": "",
   "id": "a19ae9d58f815803"
  }
 ],
 "metadata": {
  "kernelspec": {
   "display_name": "Python 3 (ipykernel)",
   "language": "python",
   "name": "python3"
  },
  "language_info": {
   "codemirror_mode": {
    "name": "ipython",
    "version": 3
   },
   "file_extension": ".py",
   "mimetype": "text/x-python",
   "name": "python",
   "nbconvert_exporter": "python",
   "pygments_lexer": "ipython3",
   "version": "3.9.6"
  }
 },
 "nbformat": 4,
 "nbformat_minor": 5
}
